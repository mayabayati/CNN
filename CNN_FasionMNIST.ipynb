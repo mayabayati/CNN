{
  "cells": [
    {
      "metadata": {
        "_uuid": "8f2839f25d086af736a60e9eeb907d3b93b6e0e5",
        "_cell_guid": "b1076dfc-b9ad-4769-8c92-a6c4dae69d19",
        "trusted": true,
        "scrolled": true
      },
      "cell_type": "code",
      "source": "from subprocess import check_output\nprint(check_output([\"ls\", \"../input\"]).decode(\"utf8\"))\nimport pandas as pd\nimport numpy as np\nimport warnings\nwarnings.filterwarnings('ignore')\nimport matplotlib.pyplot as plt\nfrom sklearn.model_selection import train_test_split\nimport keras\nfrom keras.layers import LeakyReLU\nfrom keras.models import Sequential\nfrom keras.layers.normalization import BatchNormalization\nfrom keras.layers import Conv2D,MaxPooling2D,Dense,Flatten,Dropout\nfrom keras.optimizers import Adam\nfrom keras.callbacks import TensorBoard\nfrom keras.callbacks import EarlyStopping, ModelCheckpoint\nnum_classes = 10\nepochs = 10",
      "execution_count": null,
      "outputs": []
    },
    {
      "metadata": {
        "_cell_guid": "79c7e3d0-c299-4dcb-8224-4455121ee9b0",
        "_uuid": "d629ff2d2480ee46fbb7e2d37f6b5fab8052498a",
        "trusted": true
      },
      "cell_type": "code",
      "source": "train_df = pd.read_csv('/kaggle/input/fashionmnist/fashion-mnist_train.csv',sep=',')\n\ntest_df = pd.read_csv('/kaggle/input/fashionmnist/fashion-mnist_test.csv', sep = ',')",
      "execution_count": null,
      "outputs": []
    },
    {
      "metadata": {
        "trusted": true,
        "_uuid": "c2a1daacf9a6c88dcb26ee9641f445929acff047",
        "scrolled": true
      },
      "cell_type": "code",
      "source": "train_df.head()",
      "execution_count": null,
      "outputs": []
    },
    {
      "metadata": {
        "trusted": true,
        "_uuid": "ab76d902e757fbab4e5b3ca596761cf43ef0f5c3"
      },
      "cell_type": "code",
      "source": "train_data = np.array(train_df, dtype = 'float32')",
      "execution_count": null,
      "outputs": []
    },
    {
      "metadata": {
        "trusted": true,
        "_uuid": "78c2a2bc7c8881254d2f40a409881bb78be8b3b9"
      },
      "cell_type": "code",
      "source": "test_data = np.array(test_df, dtype='float32')",
      "execution_count": null,
      "outputs": []
    },
    {
      "metadata": {
        "trusted": true,
        "_uuid": "a5f2b7de85305ec96644c4bb6ea6a615d709af7f"
      },
      "cell_type": "code",
      "source": "x_train = train_data[:,1:]/255\ny_train = train_data[:,0]\nx_test= test_data[:,1:]/255\ny_test=test_data[:,0]",
      "execution_count": null,
      "outputs": []
    },
    {
      "metadata": {
        "trusted": true,
        "_uuid": "cfe147fd988608a65f2f96186460a9c47c78793c",
        "_kg_hide-output": true
      },
      "cell_type": "code",
      "source": "x_train -= 0.5\nx_test -= 0.5\nx_train *= 2\nx_test *= 2",
      "execution_count": null,
      "outputs": []
    },
    {
      "metadata": {
        "trusted": true,
        "_uuid": "cb4b1f4e871bb2c9ec1e36459393edc8df9f105a"
      },
      "cell_type": "code",
      "source": "image_rows = 28\n\nimage_cols = 28\n\nbatch_size = 512\n\nimage_shape = (image_rows,image_cols,1)",
      "execution_count": null,
      "outputs": []
    },
    {
      "metadata": {
        "trusted": true,
        "_uuid": "3515095bb07ea853c1cdf3f97bc02772cf9afd36"
      },
      "cell_type": "code",
      "source": "x_train,x_validate,y_train,y_validate = train_test_split(x_train,y_train,test_size = 0.1,random_state = 12345)",
      "execution_count": null,
      "outputs": []
    },
    {
      "metadata": {
        "trusted": true,
        "_uuid": "f368b00a697a72fedb5692a4083e8ebfdbfdd334"
      },
      "cell_type": "code",
      "source": "x_train = x_train.reshape(x_train.shape[0],*image_shape)\nx_test = x_test.reshape(x_test.shape[0],*image_shape)\nx_validate = x_validate.reshape(x_validate.shape[0],*image_shape)\ny_train2 = keras.utils.to_categorical(y_train).astype('float32')\ny_validate2 = keras.utils.to_categorical(y_validate).astype('float32')",
      "execution_count": null,
      "outputs": []
    },
    {
      "metadata": {
        "trusted": true,
        "_uuid": "54cc378e61a822f5297be4b836f57ef3625e3154"
      },
      "cell_type": "code",
      "source": "num_classes = 10\nmodel3=Sequential()\nmodel3.add(Conv2D(filters=32, kernel_size=(3, 3), padding=\"same\", \n          input_shape=image_shape, activation='relu'))\nmodel3.add(Conv2D(filters=64, kernel_size=(3, 3), padding=\"same\", activation='relu'))\nmodel3.add(MaxPooling2D(pool_size=(2, 2)))\nmodel3.add(Dropout(0.5))\nmodel3.add(Conv2D(filters=128, kernel_size=(3, 3), padding=\"same\", activation='relu'))\nmodel3.add(Conv2D(filters=256, kernel_size=(3, 3), padding=\"valid\", activation='relu'))\nmodel3.add(MaxPooling2D(pool_size=(3, 3)))\nmodel3.add(Dropout(0.5))\nmodel3.add(Flatten())\nmodel3.add(Dense(256))\nmodel3.add(LeakyReLU())\nmodel3.add(Dropout(0.5))\nmodel3.add(Dense(256))\nmodel3.add(LeakyReLU())\n#model2.add(Dropout(0.5))\nmodel3.add(Dense(num_classes, activation='softmax'))\nmodel3.compile(loss='categorical_crossentropy', optimizer='adam', metrics=['accuracy'])\nmodel3.summary()",
      "execution_count": null,
      "outputs": []
    },
    {
      "metadata": {
        "trusted": true,
        "_uuid": "af11668c17c2ec7b0031160d413f75717a61531d",
        "scrolled": false
      },
      "cell_type": "code",
      "source": "history = model3.fit(\n    x_train,\n    y_train2,\n    batch_size=500,\n    epochs=50,\n    verbose=1,\n    validation_data=(x_validate,y_validate2)\n)",
      "execution_count": null,
      "outputs": []
    },
    {
      "metadata": {
        "trusted": true,
        "_uuid": "cbd95a8d744a4d22e6c81420ad7ba3644432b756"
      },
      "cell_type": "code",
      "source": "y_test2 = keras.utils.to_categorical(y_test).astype('float32')\nscore = model3.evaluate(x_test,y_test2,verbose=0)\nprint('Test Loss : {:.4f}'.format(score[0]))\nprint('Test Accuracy : {:.4f}'.format(score[1]))",
      "execution_count": null,
      "outputs": []
    },
    {
      "metadata": {
        "trusted": true,
        "_uuid": "6f36dab029c150a5d968f82cfcba7f41962d0cfa"
      },
      "cell_type": "code",
      "source": "import matplotlib.pyplot as plt\n%matplotlib inline\naccuracy = history.history['acc']\nval_accuracy = history.history['val_acc']\nloss = history.history['loss']\nval_loss = history.history['val_loss']\nepochs = range(len(accuracy))\nplt.plot(epochs, accuracy, 'bo', label='Training Accuracy')\nplt.plot(epochs, val_accuracy, 'b', label='Validation Accuracy')\nplt.title('Training and Validation accuracy')\nplt.legend()\nplt.figure()\nplt.plot(epochs, loss, 'bo', label='Training Loss')\nplt.plot(epochs, val_loss, 'b', label='Validation Loss')\nplt.title('Training and validation loss')\nplt.legend()\nplt.show()",
      "execution_count": null,
      "outputs": []
    },
    {
      "metadata": {
        "trusted": true,
        "_uuid": "c33568c70eb30acc310d955bc7b5d8d99ad52d2e"
      },
      "cell_type": "code",
      "source": "predicted_classes = model3.predict_classes(x_test)\n#get the indices to be plotted\ny_true = test_df.iloc[:, 0]\ncorrect = np.nonzero(predicted_classes==y_true)[0]\nincorrect = np.nonzero(predicted_classes!=y_true)[0]\nfrom sklearn.metrics import classification_report\ntarget_names = [\"Class {}\".format(i) for i in range(num_classes)]\nprint(classification_report(y_true, predicted_classes, target_names=target_names))",
      "execution_count": null,
      "outputs": []
    },
    {
      "metadata": {
        "trusted": true,
        "_uuid": "9612405303250a9be9e46b12f312af996c93c558"
      },
      "cell_type": "code",
      "source": "test = pd.read_csv('/kaggle/input/datamnist/test_data.csv', sep = ',')\ntest_d = np.array(test, dtype='float32')\n",
      "execution_count": null,
      "outputs": []
    },
    {
      "metadata": {
        "trusted": true,
        "_uuid": "0f68e244d1a4a40026d2a6c628974b789cf82c5c"
      },
      "cell_type": "code",
      "source": "x_t = test_d[:,1:]/255\nx_t -= 0.5\nx_t *=2\nx = x_t.reshape(x_t.shape[0],*image_shape)\np = model3.predict_classes(x)\nprint(p)",
      "execution_count": null,
      "outputs": []
    },
    {
      "metadata": {
        "_kg_hide-output": false,
        "trusted": true,
        "_uuid": "ccc0a5b6bbbe593e2f31f54cb678edd56ec9ec2e"
      },
      "cell_type": "code",
      "source": "pd.DataFrame(p, columns=['label']).to_csv('p.csv')\n",
      "execution_count": null,
      "outputs": []
    },
    {
      "metadata": {
        "trusted": true,
        "_uuid": "bff6139b223169e27b5398f2f6c94d8225451e81"
      },
      "cell_type": "code",
      "source": "",
      "execution_count": null,
      "outputs": []
    }
  ],
  "metadata": {
    "kernelspec": {
      "display_name": "Python 3",
      "language": "python",
      "name": "python3"
    },
    "language_info": {
      "name": "python",
      "version": "3.6.6",
      "mimetype": "text/x-python",
      "codemirror_mode": {
        "name": "ipython",
        "version": 3
      },
      "pygments_lexer": "ipython3",
      "nbconvert_exporter": "python",
      "file_extension": ".py"
    }
  },
  "nbformat": 4,
  "nbformat_minor": 1
}
